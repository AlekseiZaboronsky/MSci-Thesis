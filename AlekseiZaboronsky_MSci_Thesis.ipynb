{
 "cells": [
  {
   "cell_type": "code",
   "execution_count": 1,
   "metadata": {
    "collapsed": false
   },
   "outputs": [
    {
     "name": "stdout",
     "output_type": "stream",
     "text": [
      "Populating the interactive namespace from numpy and matplotlib\n"
     ]
    }
   ],
   "source": [
    "%pylab inline\n",
    "import numpy as np\n",
    "import matplotlib\n",
    "from numpy import linalg as LA\n",
    "import scipy.special as SP"
   ]
  },
  {
   "cell_type": "markdown",
   "metadata": {},
   "source": [
    "## Linear algebra manipulation functions:"
   ]
  },
  {
   "cell_type": "code",
   "execution_count": 2,
   "metadata": {
    "collapsed": true
   },
   "outputs": [],
   "source": [
    "def largest_eigenvalue_finder(matrix):\n",
    "    'Receives a matrix argument and returns the largest eigenvalue'\n",
    "    \n",
    "    z, v = LA.eig(matrix)\n",
    "    \n",
    "    return max(z)"
   ]
  },
  {
   "cell_type": "code",
   "execution_count": 3,
   "metadata": {
    "collapsed": true
   },
   "outputs": [],
   "source": [
    "def minor(matrix,i,j):\n",
    "    # ith row, jth column removed\n",
    "    return matrix[np.array(list(range(i))+list(range(i+1,matrix.shape[0])))[:,np.newaxis],\n",
    "               np.array(list(range(j))+list(range(j+1,matrix.shape[1])))]"
   ]
  },
  {
   "cell_type": "code",
   "execution_count": 4,
   "metadata": {
    "collapsed": true
   },
   "outputs": [],
   "source": [
    "def find_adj(matrix):\n",
    "    'Receives a matrix input and outputs the transposed co matrix'\n",
    "    \n",
    "    C = np.zeros(matrix.shape)\n",
    "    rows, cols = C.shape\n",
    "    \n",
    "    for i in range(0,rows):\n",
    "        for j in range(0,cols):\n",
    "            C[i,j] = (-1)**(i+j) * LA.det(minor(matrix,i,j))\n",
    "        next\n",
    "    next\n",
    "    \n",
    "    return C.transpose()"
   ]
  },
  {
   "cell_type": "code",
   "execution_count": 5,
   "metadata": {
    "collapsed": true
   },
   "outputs": [],
   "source": [
    "def lambda_prime_finder(matrix_minus_eigenvalues,matrix_prime):\n",
    "    'Finds lambda prime for given matrices'\n",
    "    \n",
    "    return trace(matmul(find_adj(matrix_minus_eigenvalues),matrix_prime))/trace(find_adj((matrix_minus_eigenvalues)))"
   ]
  },
  {
   "cell_type": "code",
   "execution_count": 6,
   "metadata": {
    "collapsed": true
   },
   "outputs": [],
   "source": [
    "def find_adj_prime(matrix,matrix_prime):\n",
    "    'Receives a matrix and its first derivative, and finds the derivative of the matrix adjugate'\n",
    "    \n",
    "    C = np.zeros(matrix.shape)\n",
    "    rows, cols = C.shape\n",
    "    \n",
    "    for i in range(0,rows):\n",
    "        for j in range(0,cols):\n",
    "            C[i,j] = (-1)**(i+j) * trace(matmul(find_adj(minor(matrix,i,j)),minor(matrix_prime,i,j)))\n",
    "        next\n",
    "    next\n",
    "    \n",
    "    return C.transpose()"
   ]
  },
  {
   "cell_type": "code",
   "execution_count": 7,
   "metadata": {
    "collapsed": true
   },
   "outputs": [],
   "source": [
    "def lambda_second_prime_finder(matrix_minus_eigenvalues,matrix_prime_minus_eigenvalues_prime,matrix_double_prime):\n",
    "    'Finds lambda second prime for given matrices'\n",
    "    \n",
    "    return (trace(matmul(find_adj(matrix_minus_eigenvalues),matrix_double_prime) + matmul(find_adj_prime(matrix_minus_eigenvalues,matrix_prime_minus_eigenvalues_prime),matrix_prime_minus_eigenvalues_prime)))/(trace(find_adj(matrix_minus_eigenvalues)))"
   ]
  },
  {
   "cell_type": "markdown",
   "metadata": {},
   "source": [
    "## Coupling constant calulations:"
   ]
  },
  {
   "cell_type": "code",
   "execution_count": 8,
   "metadata": {
    "collapsed": true
   },
   "outputs": [],
   "source": [
    "def heaviside(value):\n",
    "    'Replicating the heaviside function'\n",
    "    \n",
    "    if value > 0:\n",
    "        return 1\n",
    "    elif value == 0:\n",
    "        return 0.5\n",
    "    else:\n",
    "        return 0"
   ]
  },
  {
   "cell_type": "code",
   "execution_count": 9,
   "metadata": {
    "collapsed": true
   },
   "outputs": [],
   "source": [
    "def elec_int_pot(z,p,p_0,phi,a,M,N):\n",
    "    'Calculates the inter-ionic interaction potential between two charges in a cylindrical metallic pore'\n",
    "    \n",
    "    u = 0\n",
    "    \n",
    "    for m in range(0,M):\n",
    "        \n",
    "        k_nm = SP.jn_zeros(m,N)\n",
    "        a_m = 2*heaviside(m)\n",
    "        \n",
    "        temp = 0\n",
    "        \n",
    "        for n in range(0,N):\n",
    "            \n",
    "            temp = temp + ((SP.jn(m,(k_nm[n]*p_0)/a)*SP.jn(m,(k_nm[n]*p)/a))/(k_nm[n]*((SP.jn(m+1,k_nm[n]))**2)))*exp(-1*(k_nm[n]*abs(z))/a)\n",
    "            \n",
    "        next\n",
    "        \n",
    "        u = u + (a_m*cos(m*phi)*temp)\n",
    "        \n",
    "        \n",
    "    next\n",
    "    \n",
    "    return 28*(2/a)*u"
   ]
  },
  {
   "cell_type": "markdown",
   "metadata": {},
   "source": [
    "## Now here is the code for a two row, two-state model:"
   ]
  },
  {
   "cell_type": "code",
   "execution_count": 10,
   "metadata": {
    "collapsed": true
   },
   "outputs": [],
   "source": [
    "def transfer_matrix_element_two_row_diag(u,a_1,a_2,a_3,a_4,p_i,q_i,p_ip1,q_ip1):\n",
    "    'Finds the value of a given element of our diagonal, two row model'\n",
    "    '4x4 transfer matrix for the given values of u, a_1, a_2, a_3, a_4 (alpha 1-4) and spins'\n",
    "    \n",
    "    return exp(-a_1*(p_i*p_ip1 + q_i*q_ip1) - a_2*(p_i*q_i) -  a_3*(p_i*q_ip1) - a_4*(q_i*p_ip1) - u*(p_i + q_i))"
   ]
  },
  {
   "cell_type": "code",
   "execution_count": 11,
   "metadata": {
    "collapsed": true
   },
   "outputs": [],
   "source": [
    "def two_row_diag(u,a_1,a_2,a_3,a_4):\n",
    "\n",
    "    matrix_dimension = 4\n",
    "    \n",
    "    transfer_matrix = array([[0.0 for col in range(matrix_dimension)] for row in range(matrix_dimension)])\n",
    "    transfer_matrix_prime = array([[0.0 for col in range(matrix_dimension)] for row in range(matrix_dimension)])\n",
    "    transfer_matrix_double_prime = array([[0.0 for col in range(matrix_dimension)] for row in range(matrix_dimension)])\n",
    "    \n",
    "    free_energy_transfer_matrix_prime = array([[0.0 for col in range(matrix_dimension)] for row in range(matrix_dimension)])\n",
    "    \n",
    "    transfer_matrix_minus_l = array([[0.0 for col in range(matrix_dimension)] for row in range(matrix_dimension)])\n",
    "    transfer_matrix_prime_minus_dl = array([[0.0 for col in range(matrix_dimension)] for row in range(matrix_dimension)])\n",
    "    \n",
    "    rows, cols = transfer_matrix.shape\n",
    "    \n",
    "    spins_array = array([[-1,-1],\n",
    "                         [-1,1],\n",
    "                         [1,-1],\n",
    "                         [1,1]])\n",
    "    \n",
    "    for i in range(0,rows):\n",
    "        for j in range(0,cols):\n",
    "            transfer_matrix[i,j] = transfer_matrix_element_two_row_diag(u,a_1,a_2,a_3,a_4,spins_array[i,0],spins_array[i,1],spins_array[j,0],spins_array[j,1])\n",
    "            \n",
    "            transfer_matrix_prime[i,j] = (-1*(spins_array[i,0] + spins_array[i,1]))*transfer_matrix_element_two_row_diag(u,a_1,a_2,a_3,a_4,spins_array[i,0],spins_array[i,1],spins_array[j,0],spins_array[j,1])\n",
    "            \n",
    "            transfer_matrix_double_prime[i,j] = ((-1*(spins_array[i,0] + spins_array[i,1]))**2)*transfer_matrix_element_two_row_diag(u,a_1,a_2,a_3,a_4,spins_array[i,0],spins_array[i,1],spins_array[j,0],spins_array[j,1])\n",
    "        \n",
    "            free_energy_transfer_matrix_prime[i,j] = (-a_1*(spins_array[i,0]*spins_array[j,0] + spins_array[i,1]*spins_array[j,1]) - a_2*(spins_array[i,0]*spins_array[i,1]) - a_3*(spins_array[i,0]*spins_array[j,1]) - a_4*(spins_array[i,1]*spins_array[j,0]) - u*(spins_array[i,0] + spins_array[i,1]))*transfer_matrix_element_two_row_diag(u,a_1,a_2,a_3,a_4,spins_array[i,0],spins_array[i,1],spins_array[j,0],spins_array[j,1])\n",
    "        next\n",
    "    next\n",
    "    \n",
    "    l = largest_eigenvalue_finder(transfer_matrix)\n",
    "    \n",
    "    for i in range(0,rows):\n",
    "        for j in range(0,cols):\n",
    "            if i == j:\n",
    "                transfer_matrix_minus_l[i,j] = transfer_matrix[i,j] - l\n",
    "            else:\n",
    "                transfer_matrix_minus_l[i,j] = transfer_matrix[i,j]\n",
    "        next\n",
    "    next\n",
    "    \n",
    "    dl = lambda_prime_finder(transfer_matrix_minus_l,transfer_matrix_prime)\n",
    "    \n",
    "    free_energy_dl = lambda_prime_finder(transfer_matrix_minus_l,free_energy_transfer_matrix_prime)\n",
    "    \n",
    "    avg_spin = -1*(dl/l)\n",
    "    free_energy = -1*(free_energy_dl/l)\n",
    "    \n",
    "    for i in range(0,rows):\n",
    "        for j in range(0,cols):\n",
    "            if i == j:\n",
    "                transfer_matrix_prime_minus_dl[i,j] = transfer_matrix_prime[i,j] - dl\n",
    "            else:\n",
    "                transfer_matrix_prime_minus_dl[i,j] = transfer_matrix_prime[i,j]\n",
    "        next\n",
    "    next\n",
    "    \n",
    "    ddl = lambda_second_prime_finder(transfer_matrix_minus_l,transfer_matrix_prime_minus_dl,transfer_matrix_double_prime)\n",
    "    \n",
    "    response_function = (1/l**2)*(dl**2) - (1/l)*(ddl)\n",
    "    \n",
    "    return transfer_matrix,transfer_matrix_prime,transfer_matrix_double_prime,l,transfer_matrix_minus_l,dl,transfer_matrix_prime_minus_dl,ddl,avg_spin,free_energy,response_function"
   ]
  },
  {
   "cell_type": "markdown",
   "metadata": {},
   "source": [
    "## Function for plotting two row graphs:"
   ]
  },
  {
   "cell_type": "code",
   "execution_count": 13,
   "metadata": {
    "collapsed": true
   },
   "outputs": [],
   "source": [
    "def plotter_two(u_initial,u_increment,u_no_of_steps,epsilon,L_B,a,d):\n",
    "    \n",
    "    # Here we have the alpha values for the two row case, hence four alpha values:\n",
    "    a_1 = elec_int_pot(0.7,0.35,0.35,0,0.7,100,100) #two rows, case 1 configuration, 1.4 nm diameter    \n",
    "    a_2 = elec_int_pot(0.1,0.35,0.35,pi,0.7,100,100)    \n",
    "    a_3 = elec_int_pot(0.7,0.35,0.35,pi,0.7,100,100) \n",
    "    a_4 = elec_int_pot(0.7,0.35,0.35,pi,0.7,100,100)  \n",
    "    \n",
    "    u_list = [0.0]*u_no_of_steps\n",
    "    avg_spin_list = [0.0]*u_no_of_steps\n",
    "    free_energy_list = [0.0]*u_no_of_steps\n",
    "    response_list = [0.0]*u_no_of_steps\n",
    "    capacitance_list = [0.0]*u_no_of_steps\n",
    "    \n",
    "    for i in range(0,u_no_of_steps):\n",
    "        \n",
    "        u = u_initial+(u_increment*i)\n",
    "        \n",
    "        u_list[i] = u\n",
    "        avg_spin_list[i] = two_row_diag(u,a_1,a_2,a_3,a_4)[8]\n",
    "        #free_energy_list[i] = two_row_diag(u,a_1,a_2,a_3,a_4)[9]\n",
    "        #response_list[i] = two_row_diag(u,a_1,a_2,a_3,a_4)[10]\n",
    "        #capacitance_list[i] = 11.11*(-epsilon*L_B*two_row_diag(u,a_1,a_2,a_3,a_4)[10])/(2*pi*a*d)\n",
    "        \n",
    "    next\n",
    "    \n",
    "    plot(u_list,avg_spin_list,label = 'Average spin')\n",
    "    #plot(u_list,free_energy_list,label = 'Average energy')\n",
    "    #plot(u_list,response_list,label = 'Response function')\n",
    "    #plot(u_list,capacitance_list,label = 'Diff. Cap.')\n",
    "    \n",
    "    figsize(15,8)\n",
    "    #title('Alpha 1 = ' + str(a_1) + ', alpha 2 = ' + str(a_2) + ',alpha 3 = ' + str(a_3) + ',alpha 4 = ' + str(a_4))\n",
    "    ylabel('$<S_i>$',fontsize=15)\n",
    "    xlabel('$u$',fontsize=15)\n",
    "    legend()"
   ]
  },
  {
   "cell_type": "markdown",
   "metadata": {},
   "source": [
    "## This function allows the plotting of average spin (charge), energy, response function and differential capacitance. Example average spin plot:"
   ]
  },
  {
   "cell_type": "code",
   "execution_count": 15,
   "metadata": {
    "collapsed": false
   },
   "outputs": [
    {
     "data": {
      "image/png": "[encoded data removed]",
      "text/plain": [
       "<matplotlib.figure.Figure at 0x69831d0>"
      ]
     },
     "metadata": {},
     "output_type": "display_data"
    }
   ],
   "source": [
    "plotter_two(-50,0.1,1000,2,28,0.7,0.7)"
   ]
  },
  {
   "cell_type": "markdown",
   "metadata": {},
   "source": [
    "## This notebook has shown an example of how the numerical computation was performed using Python."
   ]
  }
 ],
 "metadata": {
  "kernelspec": {
   "display_name": "Python 3",
   "language": "python",
   "name": "python3"
  },
  "language_info": {
   "codemirror_mode": {
    "name": "ipython",
    "version": 3
   },
   "file_extension": ".py",
   "mimetype": "text/x-python",
   "name": "python",
   "nbconvert_exporter": "python",
   "pygments_lexer": "ipython3",
   "version": "3.6.0"
  }
 },
 "nbformat": 4,
 "nbformat_minor": 2
}
